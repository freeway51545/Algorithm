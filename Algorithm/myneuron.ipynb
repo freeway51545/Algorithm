{
 "cells": [
  {
   "cell_type": "code",
   "execution_count": 1,
   "metadata": {},
   "outputs": [],
   "source": [
    "import pickle\n",
    "import tensorflow as tf\n",
    "import numpy as np\n",
    "import os"
   ]
  },
  {
   "cell_type": "code",
   "execution_count": 4,
   "metadata": {},
   "outputs": [
    {
     "data": {
      "text/plain": [
       "str"
      ]
     },
     "execution_count": 4,
     "metadata": {},
     "output_type": "execute_result"
    }
   ],
   "source": [
    "CIFAR_DIR = \"F:\\learning-resource\\课程数据\\cifar-10-batches-py\"\n",
    "os.listdir(CIFAR_DIR)[0]"
   ]
  },
  {
   "cell_type": "code",
   "execution_count": 5,
   "metadata": {},
   "outputs": [],
   "source": [
    "class CifarData:\n",
    "    def __init__(self,filedir,shuffle=True):\n",
    "        for filename in os.listdir(filedir):\n",
    "            if 'data_batch' is filename:\n",
    "                file = os.path.join(CIFAR_DIR,filename)\n",
    "                with open(file,'rb') as f:\n",
    "                    data = pickle.load(f,encoding='bytes')\n",
    "                    data['data'], data['labels']\n",
    "                    if self._train_data:\n",
    "                        self._train_data = np.hstack(self._train_data,data['data'])\n",
    "                        self._train_labels = np.hstack(self._train_labels,data['labels'])\n",
    "                    else:\n",
    "                        self._train_data = data['data']\n",
    "                        self._train_labels = data['data']\n",
    "            if 'test_batch' is filename:\n",
    "                file = os.path.join(CIFAR_DIR,filename)\n",
    "                with open(file,'rb') as f:\n",
    "                    data = pickle.load(f,encoding='bytes')\n",
    "                    data['data'], data['labels']\n",
    "                    if self._train_data:\n",
    "                        self._test_data = np.hstack(self._test_data,data['data'])\n",
    "                        self._test_labels = np.hstack(self._test_labels,data['labels'])\n",
    "                    else:\n",
    "                        self._test_data = data['data']\n",
    "                        self._test_labels = data['data']\n",
    "        self._train_indecator = 0\n",
    "        self._test_indecator = 0\n",
    "        self._shuffle = shuffle\n",
    "        if self._shuffle:\n",
    "            self._shuffle_data()\n",
    "    def _shuffle_data(self):\n",
    "        index = np.random.permutation(self._train_data.shape[0])\n",
    "        self._train_data = \n",
    "        pass\n",
    "    def next_train_batch(self,batch_size):\n",
    "        self._train_indecator += batch_size \n",
    "        return self._train_data[self._train_indecator-batch_size:self._train_indecator]\n",
    "        \n",
    "    def next_test_batch(self,batch_size):\n",
    "        self._test_indecator += batch_size \n",
    "        return self._train_data[self._test_indecator-batch_size:self._test_indecator]"
   ]
  },
  {
   "cell_type": "code",
   "execution_count": null,
   "metadata": {},
   "outputs": [],
   "source": []
  }
 ],
 "metadata": {
  "kernelspec": {
   "display_name": "Python 3",
   "language": "python",
   "name": "python3"
  },
  "language_info": {
   "codemirror_mode": {
    "name": "ipython",
    "version": 3
   },
   "file_extension": ".py",
   "mimetype": "text/x-python",
   "name": "python",
   "nbconvert_exporter": "python",
   "pygments_lexer": "ipython3",
   "version": "3.6.8"
  }
 },
 "nbformat": 4,
 "nbformat_minor": 2
}
